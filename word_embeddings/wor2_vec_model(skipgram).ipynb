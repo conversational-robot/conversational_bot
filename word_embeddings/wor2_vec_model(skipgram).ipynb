{
  "nbformat": 4,
  "nbformat_minor": 0,
  "metadata": {
    "colab": {
      "name": "Untitled3.ipynb",
      "provenance": [],
      "collapsed_sections": []
    },
    "kernelspec": {
      "name": "python3",
      "display_name": "Python 3"
    }
  },
  "cells": [
    {
      "cell_type": "code",
      "metadata": {
        "id": "tIm6Whe4RGmk",
        "colab_type": "code",
        "colab": {
          "base_uri": "https://localhost:8080/",
          "height": 591
        },
        "outputId": "4403224e-0963-4429-bd76-d3c86e245894"
      },
      "source": [
        "\n",
        "import tensorflow as tf\n",
        "import numpy as np\n",
        "from keras.preprocessing.text import Tokenizer\n",
        "\n",
        "import nltk\n",
        "from nltk.corpus import brown\n",
        "\n",
        "from keras.models import Sequential \n",
        "from keras.layers import Dense, Dropout, Activation, Embedding, Flatten , Reshape\n",
        "from keras.metrics import categorical_accuracy\n",
        "\n",
        "\n",
        "\n",
        "nltk.download('brown')\n",
        "data = brown.sents(categories=brown.categories())\n",
        "\n",
        "\n",
        "print(len(data))\n",
        "\n",
        "stopwords = [ \"a\", \"about\", \"above\", \"after\", \"again\", \"against\", \"all\", \"am\", \"an\", \"and\", \"any\", \"are\", \"as\", \"at\", \"be\", \"because\", \"been\", \"before\", \"being\", \"below\", \"between\", \"both\", \"but\", \"by\", \"could\", \"did\", \"do\", \"does\", \"doing\", \"down\", \"during\", \"each\", \"few\", \"for\", \"from\", \"further\", \"had\", \"has\", \"have\", \"having\", \"he\", \"he'd\", \"he'll\", \"he's\", \"her\", \"here\", \"here's\", \"hers\", \"herself\", \"him\", \"himself\", \"his\", \"how\", \"how's\", \"i\", \"i'd\", \"i'll\", \"i'm\", \"i've\", \"if\", \"in\", \"into\", \"is\", \"it\", \"it's\", \"its\", \"itself\", \"let's\", \"me\", \"more\", \"most\", \"my\", \"myself\", \"nor\", \"of\", \"on\", \"once\", \"only\", \"or\", \"other\", \"ought\", \"our\", \"ours\", \"ourselves\", \"out\", \"over\", \"own\", \"same\", \"she\", \"she'd\", \"she'll\", \"she's\", \"should\", \"so\", \"some\", \"such\", \"than\", \"that\", \"that's\", \"the\", \"their\", \"theirs\", \"them\", \"themselves\", \"then\", \"there\", \"there's\", \"these\", \"they\", \"they'd\", \"they'll\", \"they're\", \"they've\", \"this\", \"those\", \"through\", \"to\", \"too\", \"under\", \"until\", \"up\", \"very\", \"was\", \"we\", \"we'd\", \"we'll\", \"we're\", \"we've\", \"were\", \"what\", \"what's\", \"when\", \"when's\", \"where\", \"where's\", \"which\", \"while\", \"who\", \"who's\", \"whom\", \"why\", \"why's\", \"with\", \"would\", \"you\", \"you'd\", \"you'll\", \"you're\", \"you've\", \"your\", \"yours\", \"yourself\", \"yourselves\" ]\n",
        "punctuation = ['!','\"','#','$','%','&',\"'\",'(',')','*','+',',','-','.','/',':',';','<','=','>','?','@','[','\\\\',']','^','_','`','{','|','}','~','``',\"''\",'--']\n",
        "\n",
        "sentences=[]\n",
        "\n",
        "for sentence in data:\n",
        "    for word in stopwords:\n",
        "        token=\" \"+word+\" \"\n",
        "        sentence=[item.replace(token,\" \") for item in sentence]\n",
        "    sentences.append(sentence)\n",
        "\n",
        "for i in range(len(sentences)):\n",
        "    sentences[i]=[item.lower() for item in sentences[i]]\n",
        "    for pun in punctuation:\n",
        "        sentences[i]=[item.replace(pun,\"\") for item in sentences[i]]\n",
        "        sentences[i]=[item for item in sentences[i] if item]\n",
        "print(len(sentences))\n",
        "vocab_size=10000\n",
        "vector_dim=64\n",
        "maxlen=20\n",
        "window_size=3\n",
        "\n",
        "\n",
        "tokenizer = Tokenizer(num_words = vocab_size,oov_token =\"<oov>\")\n",
        "tokenizer.fit_on_texts(sentences)\n",
        "\n",
        "\n",
        "word_index = tokenizer.word_index\n",
        "for word , index in word_index.items():\n",
        "  if index>10000:\n",
        "    word_index[word]=1\n",
        "    \n",
        "  \n",
        "    \n",
        "\n",
        "\n",
        "x_train=[]\n",
        "y_train=[]\n",
        "\n",
        "for sentence in sentences:\n",
        "  sent_len=len(sentence)\n",
        "  for i , context in enumerate(sentence):\n",
        "    \n",
        "    for j in range(i - window_size, i + window_size + 1):\n",
        "      if j != i and j <= sent_len-1 and j >= 0:\n",
        "          x_train.append(word_index[sentence[i]])\n",
        "          y_train.append(word_index[sentence[j]])   \n",
        "x_train = np.asarray(x_train)\n",
        "y_train = np.asarray(y_train)\n",
        "\n",
        "print(x_train.shape)\n",
        "print(y_train.shape)\n",
        "print(x_train[:15])\n",
        "print(y_train[:15])\n",
        "model=Sequential()\n",
        "model.add(Embedding(vocab_size + 1, vector_dim, input_length=1))\n",
        "model.add(Flatten())\n",
        "model.add(Dense(vector_dim,activation = 'relu'))\n",
        "model.add(Dense(vocab_size+1, activation='softmax'))\n",
        "model.compile(loss='sparse_categorical_crossentropy',optimizer='adam',metrics=['accuracy'])\n",
        "model.summary()\n",
        "\n",
        "\n",
        "num_epochs = 2\n",
        "\n",
        "\n",
        "model.fit(x_train , y_train , epochs=num_epochs ,batch_size = 10000, verbose=1)\n",
        "\n",
        "\n",
        "\n",
        "\n"
      ],
      "execution_count": 17,
      "outputs": [
        {
          "output_type": "stream",
          "text": [
            "[nltk_data] Downloading package brown to /root/nltk_data...\n",
            "[nltk_data]   Package brown is already up-to-date!\n",
            "57340\n",
            "57340\n",
            "(5402772,)\n",
            "(5402772,)\n",
            "[   2    2    2 5437 5437 5437 5437  643  643  643  643  643 2297 2297\n",
            " 2297]\n",
            "[5437  643 2297    2  643 2297 1634    2 5437 2297 1634   55    2 5437\n",
            "  643]\n",
            "Model: \"sequential_7\"\n",
            "_________________________________________________________________\n",
            "Layer (type)                 Output Shape              Param #   \n",
            "=================================================================\n",
            "embedding_7 (Embedding)      (None, 1, 64)             640064    \n",
            "_________________________________________________________________\n",
            "flatten_7 (Flatten)          (None, 64)                0         \n",
            "_________________________________________________________________\n",
            "dense_11 (Dense)             (None, 64)                4160      \n",
            "_________________________________________________________________\n",
            "dense_12 (Dense)             (None, 10001)             650065    \n",
            "=================================================================\n",
            "Total params: 1,294,289\n",
            "Trainable params: 1,294,289\n",
            "Non-trainable params: 0\n",
            "_________________________________________________________________\n"
          ],
          "name": "stdout"
        },
        {
          "output_type": "stream",
          "text": [
            "/usr/local/lib/python3.6/dist-packages/tensorflow/python/framework/indexed_slices.py:434: UserWarning: Converting sparse IndexedSlices to a dense Tensor of unknown shape. This may consume a large amount of memory.\n",
            "  \"Converting sparse IndexedSlices to a dense Tensor of unknown shape. \"\n"
          ],
          "name": "stderr"
        },
        {
          "output_type": "stream",
          "text": [
            "Epoch 1/2\n",
            "5402772/5402772 [==============================] - 1079s 200us/step - loss: 6.8026 - accuracy: 0.0715\n",
            "Epoch 2/2\n",
            "5402772/5402772 [==============================] - 1077s 199us/step - loss: 6.4651 - accuracy: 0.0789\n"
          ],
          "name": "stdout"
        },
        {
          "output_type": "execute_result",
          "data": {
            "text/plain": [
              "<keras.callbacks.callbacks.History at 0x7f0141249be0>"
            ]
          },
          "metadata": {
            "tags": []
          },
          "execution_count": 17
        }
      ]
    },
    {
      "cell_type": "code",
      "metadata": {
        "id": "T1AcpN4fRXQ4",
        "colab_type": "code",
        "colab": {
          "base_uri": "https://localhost:8080/",
          "height": 34
        },
        "outputId": "1bba69be-5200-44f7-aedd-ed46ed7b0277"
      },
      "source": [
        "\n",
        "e = model.layers[0]\n",
        "weights = e.get_weights()[0]\n",
        "print(weights.shape)"
      ],
      "execution_count": 18,
      "outputs": [
        {
          "output_type": "stream",
          "text": [
            "(10001, 64)\n"
          ],
          "name": "stdout"
        }
      ]
    },
    {
      "cell_type": "code",
      "metadata": {
        "id": "wo-q42RoRZ4R",
        "colab_type": "code",
        "colab": {}
      },
      "source": [
        "\n",
        "reverse_word_index = dict([(value, key) for (key, value) in word_index.items()])\n",
        "\n",
        "def decode_sentence(text):\n",
        "    return ' '.join([reverse_word_index.get(i, '?') for i in text])\n"
      ],
      "execution_count": 0,
      "outputs": []
    },
    {
      "cell_type": "code",
      "metadata": {
        "id": "r4p5lD8zUD9P",
        "colab_type": "code",
        "colab": {}
      },
      "source": [
        "\n",
        "import io\n",
        "\n",
        "out_v = io.open('gajab.tsv', 'w', encoding='utf-8')\n",
        "out_m = io.open('lajabab.tsv', 'w', encoding='utf-8')\n",
        "for word_num in range(1, vocab_size+1):\n",
        "  word = reverse_word_index[word_num]\n",
        "  embeddings = weights[word_num]\n",
        "  out_m.write(word + \"\\n\")\n",
        "  out_v.write('\\t'.join([str(x) for x in embeddings]) + \"\\n\")\n",
        "out_v.close()\n",
        "out_m.close()"
      ],
      "execution_count": 0,
      "outputs": []
    },
    {
      "cell_type": "code",
      "metadata": {
        "id": "JLtmJDnvYapq",
        "colab_type": "code",
        "colab": {}
      },
      "source": [
        "try:\n",
        "  from google.colab import files\n",
        "except ImportError:\n",
        "  pass\n",
        "else:\n",
        "  files.download('gajab.tsv')\n",
        "  files.download('lajabab.tsv')"
      ],
      "execution_count": 0,
      "outputs": []
    },
    {
      "cell_type": "code",
      "metadata": {
        "id": "b3ol37K1Ynv0",
        "colab_type": "code",
        "colab": {}
      },
      "source": [
        "\n",
        "\n",
        "\n",
        "\n"
      ],
      "execution_count": 0,
      "outputs": []
    },
    {
      "cell_type": "code",
      "metadata": {
        "id": "lbDUl1geYr98",
        "colab_type": "code",
        "colab": {}
      },
      "source": [
        ""
      ],
      "execution_count": 0,
      "outputs": []
    },
    {
      "cell_type": "code",
      "metadata": {
        "id": "e3f4ZwZBc-GB",
        "colab_type": "code",
        "colab": {}
      },
      "source": [
        ""
      ],
      "execution_count": 0,
      "outputs": []
    },
    {
      "cell_type": "code",
      "metadata": {
        "id": "UDIVA_utdudj",
        "colab_type": "code",
        "colab": {}
      },
      "source": [
        ""
      ],
      "execution_count": 0,
      "outputs": []
    },
    {
      "cell_type": "code",
      "metadata": {
        "id": "1wUMwiJ8d4Pc",
        "colab_type": "code",
        "colab": {}
      },
      "source": [
        ""
      ],
      "execution_count": 0,
      "outputs": []
    },
    {
      "cell_type": "code",
      "metadata": {
        "id": "p8US4xOIeH-U",
        "colab_type": "code",
        "colab": {}
      },
      "source": [
        ""
      ],
      "execution_count": 0,
      "outputs": []
    }
  ]
}